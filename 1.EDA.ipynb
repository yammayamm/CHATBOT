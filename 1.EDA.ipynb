{
 "cells": [
  {
   "cell_type": "code",
   "execution_count": null,
   "metadata": {},
   "outputs": [],
   "source": [
    "import pandas as pd\n",
    "import numpy as np\n",
    "import matplotlib.pyplot as plt\n",
    "\n",
    "from collections import Counter\n",
    "\n",
    "from konlpy.tag import Okt\n",
    "\n",
    "from functools import reduce\n",
    "from wordcloud import WordCloud"
   ]
  },
  {
   "cell_type": "code",
   "execution_count": null,
   "metadata": {},
   "outputs": [],
   "source": [
    "DATA_IN_PATH = './data_in/'"
   ]
  },
  {
   "cell_type": "code",
   "execution_count": null,
   "metadata": {},
   "outputs": [],
   "source": [
    "data = pd.read_csv(DATA_IN_PATH + 'ChatBotData.csv', encoding='utf-8')"
   ]
  },
  {
   "cell_type": "code",
   "execution_count": null,
   "metadata": {},
   "outputs": [],
   "source": [
    "data"
   ]
  },
  {
   "cell_type": "code",
   "execution_count": null,
   "metadata": {
    "scrolled": true
   },
   "outputs": [],
   "source": [
    "print(data.head())"
   ]
  },
  {
   "cell_type": "code",
   "execution_count": null,
   "metadata": {},
   "outputs": [],
   "source": [
    "sentences = list(data['Q']) + list(data['A'])"
   ]
  },
  {
   "cell_type": "code",
   "execution_count": null,
   "metadata": {},
   "outputs": [],
   "source": [
    "tokenized_sentences = [s.split() for s in sentences]\n",
    "sent_len_by_token = [len(t) for t in tokenized_sentences]\n",
    "sent_len_by_eumjeol = [len(s.replace(' ', '')) for s in sentences]\n",
    "\n",
    "okt = Okt()\n",
    "\n",
    "morph_tokenized_sentences = [okt.morphs(s.replace(' ', '')) for s in sentences]\n",
    "sent_len_by_morph = [len(t) for t in morph_tokenized_sentences]"
   ]
  },
  {
   "cell_type": "code",
   "execution_count": null,
   "metadata": {},
   "outputs": [],
   "source": [
    "plt.figure(figsize=(12, 5))\n",
    "plt.hist(sent_len_by_token, bins=50, range=[0,50], alpha=0.5, color= 'r', label='eojeol')\n",
    "plt.hist(sent_len_by_morph, bins=50, range=[0,50], alpha=0.5, color='g', label='morph')\n",
    "plt.hist(sent_len_by_eumjeol, bins=50, range=[0,50], alpha=0.5, color='b', label='eumjeol')\n",
    "plt.title('Sentence Length Histogram')\n",
    "plt.xlabel('Sentence Length')\n",
    "plt.ylabel('Number of Sentences')"
   ]
  },
  {
   "cell_type": "code",
   "execution_count": null,
   "metadata": {},
   "outputs": [],
   "source": [
    "plt.figure(figsize=(12, 5))\n",
    "plt.hist(sent_len_by_token, bins=50, range=[0,50], alpha=0.5, color= 'r', label='eojeol')\n",
    "plt.hist(sent_len_by_morph, bins=50, range=[0,50], alpha=0.5, color='g', label='morph')\n",
    "plt.hist(sent_len_by_eumjeol, bins=50, range=[0,50], alpha=0.5, color='b', label='eumjeol')\n",
    "plt.yscale('log')\n",
    "plt.title('Sentence Length Histogram by Eojeol Token')\n",
    "plt.xlabel('Sentence Length')\n",
    "plt.ylabel('Number of Sentences')"
   ]
  },
  {
   "cell_type": "code",
   "execution_count": null,
   "metadata": {},
   "outputs": [],
   "source": [
    "print('어절 최대길이: {}'.format(np.max(sent_len_by_token)))\n",
    "print('어절 최소길이: {}'.format(np.min(sent_len_by_token)))\n",
    "print('어절 평균길이: {:.2f}'.format(np.mean(sent_len_by_token)))\n",
    "print('어절 길이 표준편차: {:.2f}'.format(np.std(sent_len_by_token)))\n",
    "print('어절 중간길이: {}'.format(np.median(sent_len_by_token)))\n",
    "print('제 1 사분위 길이: {}'.format(np.percentile(sent_len_by_token, 25)))\n",
    "print('제 3 사분위 길이: {}'.format(np.percentile(sent_len_by_token, 75)))"
   ]
  },
  {
   "cell_type": "code",
   "execution_count": null,
   "metadata": {},
   "outputs": [],
   "source": [
    "print('형태소 최대길이: {}'.format(np.max(sent_len_by_morph)))\n",
    "print('형태소 최소길이: {}'.format(np.min(sent_len_by_morph)))\n",
    "print('형태소 평균길이: {:.2f}'.format(np.mean(sent_len_by_morph)))\n",
    "print('형태소 길이 표준편차: {:.2f}'.format(np.std(sent_len_by_morph)))\n",
    "print('형태소 중간길이: {}'.format(np.median(sent_len_by_morph)))\n",
    "print('형태소 1/4 퍼센타일 길이: {}'.format(np.percentile(sent_len_by_morph, 25)))\n",
    "print('형태소 3/4 퍼센타일 길이: {}'.format(np.percentile(sent_len_by_morph, 75)))"
   ]
  },
  {
   "cell_type": "code",
   "execution_count": null,
   "metadata": {},
   "outputs": [],
   "source": [
    "print('음절 최대길이: {}'.format(np.max(sent_len_by_eumjeol)))\n",
    "print('음절 최소길이: {}'.format(np.min(sent_len_by_eumjeol)))\n",
    "print('음절 평균길이: {:.2f}'.format(np.mean(sent_len_by_eumjeol)))\n",
    "print('음절 길이 표준편차: {:.2f}'.format(np.std(sent_len_by_eumjeol)))\n",
    "print('음절 중간길이: {}'.format(np.median(sent_len_by_eumjeol)))\n",
    "print('음절 1/4 퍼센타일 길이: {}'.format(np.percentile(sent_len_by_eumjeol, 25)))\n",
    "print('음절 3/4 퍼센타일 길이: {}'.format(np.percentile(sent_len_by_eumjeol, 75)))"
   ]
  },
  {
   "cell_type": "code",
   "execution_count": null,
   "metadata": {},
   "outputs": [],
   "source": [
    "plt.figure(figsize=(12, 5))\n",
    "plt.boxplot([sent_len_by_token, sent_len_by_morph, sent_len_by_eumjeol],\n",
    "            labels=['Eojeol', 'Morph', 'Eumjeol'], \n",
    "            showmeans=True)"
   ]
  },
  {
   "cell_type": "code",
   "execution_count": null,
   "metadata": {},
   "outputs": [],
   "source": [
    "query_sentences = list(data['Q'])\n",
    "answer_sentences = list(data['A'])\n",
    "\n",
    "query_morph_tokenized_sentences = [okt.morphs(s.replace(' ', '')) for s in query_sentences]\n",
    "query_sent_len_by_morph = [len(t) for t in query_morph_tokenized_sentences]\n",
    "\n",
    "answer_morph_tokenized_sentences = [okt.morphs(s.replace(' ', '')) for s in answer_sentences]\n",
    "answer_sent_len_by_morph = [len(t) for t in answer_morph_tokenized_sentences]"
   ]
  },
  {
   "cell_type": "code",
   "execution_count": null,
   "metadata": {},
   "outputs": [],
   "source": [
    "plt.figure(figsize=(12, 5))\n",
    "plt.hist(query_sent_len_by_morph, bins=50, range=[0,50], color='g', label='Query')\n",
    "plt.hist(answer_sent_len_by_morph, bins=50, range=[0,50], color='r', alpha=0.5, label='Answer')\n",
    "plt.legend()\n",
    "plt.title('Query Length Histogram by Morph Token')\n",
    "plt.xlabel('Query Length')\n",
    "plt.ylabel('Number of Queries')"
   ]
  },
  {
   "cell_type": "code",
   "execution_count": null,
   "metadata": {},
   "outputs": [],
   "source": [
    "plt.figure(figsize=(12, 5))\n",
    "plt.hist(query_sent_len_by_morph, bins=50, range=[0,50], color='g', label='Query')\n",
    "plt.hist(answer_sent_len_by_morph, bins=50, range=[0,50], color='r', alpha=0.5, label='Answer')\n",
    "plt.legend()\n",
    "plt.yscale('log', nonposy='clip')\n",
    "plt.title('Query Length Log Histogram by Morph Token')\n",
    "plt.xlabel('Query Length')\n",
    "plt.ylabel('Number of Queries')"
   ]
  },
  {
   "cell_type": "code",
   "execution_count": null,
   "metadata": {},
   "outputs": [],
   "source": [
    "print('형태소 최대길이: {}'.format(np.max(query_sent_len_by_morph)))\n",
    "print('형태소 최소길이: {}'.format(np.min(query_sent_len_by_morph)))\n",
    "print('형태소 평균길이: {:.2f}'.format(np.mean(query_sent_len_by_morph)))\n",
    "print('형태소 길이 표준편차: {:.2f}'.format(np.std(query_sent_len_by_morph)))\n",
    "print('형태소 중간길이: {}'.format(np.median(query_sent_len_by_morph)))\n",
    "print('형태소 1/4 퍼센타일 길이: {}'.format(np.percentile(query_sent_len_by_morph, 25)))\n",
    "print('형태소 3/4 퍼센타일 길이: {}'.format(np.percentile(query_sent_len_by_morph, 75)))"
   ]
  },
  {
   "cell_type": "code",
   "execution_count": null,
   "metadata": {},
   "outputs": [],
   "source": [
    "print('형태소 최대길이: {}'.format(np.max(answer_sent_len_by_morph)))\n",
    "print('형태소 최소길이: {}'.format(np.min(answer_sent_len_by_morph)))\n",
    "print('형태소 평균길이: {:.2f}'.format(np.mean(answer_sent_len_by_morph)))\n",
    "print('형태소 길이 표준편차: {:.2f}'.format(np.std(answer_sent_len_by_morph)))\n",
    "print('형태소 중간길이: {}'.format(np.median(answer_sent_len_by_morph)))\n",
    "print('형태소 1/4 퍼센타일 길이: {}'.format(np.percentile(answer_sent_len_by_morph, 25)))\n",
    "print('형태소 3/4 퍼센타일 길이: {}'.format(np.percentile(answer_sent_len_by_morph, 75)))"
   ]
  },
  {
   "cell_type": "code",
   "execution_count": null,
   "metadata": {},
   "outputs": [],
   "source": [
    "okt.pos('오늘밤은유난히덥구나')"
   ]
  },
  {
   "cell_type": "code",
   "execution_count": null,
   "metadata": {},
   "outputs": [],
   "source": [
    "query_NVA_token_sentences = list()\n",
    "answer_NVA_token_sentences = list()\n",
    "\n",
    "for s in query_sentences:\n",
    "    for token, tag in okt.pos(s.replace(' ', '')):\n",
    "        if tag == 'Noun' or tag == 'Verb' or tag == 'Adjective':\n",
    "            query_NVA_token_sentences.append(token)\n",
    "\n",
    "for s in answer_sentences:\n",
    "    temp_token_bucket = list()\n",
    "    for token, tag in okt.pos(s.replace(' ', '')):\n",
    "        if tag == 'Noun' or tag == 'Verb' or tag == 'Adjective':\n",
    "            answer_NVA_token_sentences.append(token)\n",
    "            \n",
    "query_NVA_token_sentences = ' '.join(query_NVA_token_sentences)\n",
    "answer_NVA_token_sentences = ' '.join(answer_NVA_token_sentences)"
   ]
  },
  {
   "cell_type": "code",
   "execution_count": null,
   "metadata": {},
   "outputs": [],
   "source": [
    "query_wordcloud = WordCloud(font_path= DATA_IN_PATH + 'NanumGothic.ttf').generate(query_NVA_token_sentences)\n",
    "\n",
    "plt.imshow(query_wordcloud, interpolation='bilinear')\n",
    "plt.axis('off')\n",
    "plt.show()"
   ]
  },
  {
   "cell_type": "code",
   "execution_count": null,
   "metadata": {},
   "outputs": [],
   "source": [
    "query_wordcloud = WordCloud(font_path= DATA_IN_PATH + 'NanumGothic.ttf').generate(answer_NVA_token_sentences)\n",
    "\n",
    "plt.imshow(query_wordcloud, interpolation='bilinear')\n",
    "plt.axis('off')\n",
    "plt.show()"
   ]
  }
 ],
 "metadata": {
  "kernelspec": {
   "display_name": "Python 3",
   "language": "python",
   "name": "python3"
  },
  "language_info": {
   "codemirror_mode": {
    "name": "ipython",
    "version": 3
   },
   "file_extension": ".py",
   "mimetype": "text/x-python",
   "name": "python",
   "nbconvert_exporter": "python",
   "pygments_lexer": "ipython3",
   "version": "3.6.8"
  }
 },
 "nbformat": 4,
 "nbformat_minor": 2
}
