{
 "cells": [
  {
   "cell_type": "markdown",
   "metadata": {},
   "source": [
    "# 패키지 불러오기"
   ]
  },
  {
   "cell_type": "code",
   "execution_count": 127,
   "metadata": {},
   "outputs": [],
   "source": [
    "import tensorflow as tf\n",
    "import numpy as np\n",
    "import os\n",
    "\n",
    "from tensorflow.keras.callbacks import EarlyStopping, ModelCheckpoint\n",
    "import matplotlib.pyplot as plt\n",
    "\n",
    "from preprocess import *"
   ]
  },
  {
   "cell_type": "markdown",
   "metadata": {},
   "source": [
    "# 시각화 함수"
   ]
  },
  {
   "cell_type": "code",
   "execution_count": 128,
   "metadata": {},
   "outputs": [],
   "source": [
    "def plot_graphs(history, string):\n",
    "    plt.plot(history.history[string])\n",
    "    plt.plot(history.history['val_'+string], '')\n",
    "    plt.xlabel(\"Epochs\")\n",
    "    plt.ylabel(string)\n",
    "    plt.legend([string, 'val_'+string])\n",
    "    plt.show()"
   ]
  },
  {
   "cell_type": "markdown",
   "metadata": {},
   "source": [
    "# 학습 데이터 경로 정의"
   ]
  },
  {
   "cell_type": "code",
   "execution_count": 129,
   "metadata": {},
   "outputs": [],
   "source": [
    "DATA_IN_PATH = './data_in/'\n",
    "DATA_OUT_PATH = './data_out/'\n",
    "TRAIN_INPUTS = 'train_inputs.npy'\n",
    "TRAIN_OUTPUTS = 'train_outputs.npy'\n",
    "TRAIN_TARGETS = 'train_targets.npy'\n",
    "DATA_CONFIGS = 'data_configs.json'"
   ]
  },
  {
   "cell_type": "markdown",
   "metadata": {},
   "source": [
    "# 랜덤 시드 고정"
   ]
  },
  {
   "cell_type": "code",
   "execution_count": 130,
   "metadata": {},
   "outputs": [],
   "source": [
    "SEED_NUM = 1234\n",
    "tf.random.set_seed(SEED_NUM)"
   ]
  },
  {
   "cell_type": "markdown",
   "metadata": {},
   "source": [
    "# 파일 로드"
   ]
  },
  {
   "cell_type": "code",
   "execution_count": 131,
   "metadata": {},
   "outputs": [],
   "source": [
    "index_inputs = np.load(open(DATA_IN_PATH + TRAIN_INPUTS, 'rb'))\n",
    "index_outputs = np.load(open(DATA_IN_PATH + TRAIN_OUTPUTS , 'rb'))\n",
    "index_targets = np.load(open(DATA_IN_PATH + TRAIN_TARGETS , 'rb'))\n",
    "prepro_configs = json.load(open(DATA_IN_PATH + DATA_CONFIGS, 'r'))"
   ]
  },
  {
   "cell_type": "code",
   "execution_count": 132,
   "metadata": {},
   "outputs": [
    {
     "name": "stdout",
     "output_type": "stream",
     "text": [
      "20 20 20\n"
     ]
    }
   ],
   "source": [
    "# Show length\n",
    "print(len(index_inputs),  len(index_outputs), len(index_targets))"
   ]
  },
  {
   "cell_type": "markdown",
   "metadata": {},
   "source": [
    "## 모델 만들기에 필요한 값 선언"
   ]
  },
  {
   "cell_type": "code",
   "execution_count": 133,
   "metadata": {},
   "outputs": [],
   "source": [
    "MODEL_NAME = 'seq2seq_kor'\n",
    "BATCH_SIZE = 2\n",
    "MAX_SEQUENCE = 25\n",
    "EPOCH = 30\n",
    "UNITS = 1024\n",
    "EMBEDDING_DIM = 256\n",
    "VALIDATION_SPLIT = 0.1 \n",
    "\n",
    "char2idx = prepro_configs['char2idx']\n",
    "idx2char = prepro_configs['idx2char']\n",
    "std_index = prepro_configs['std_symbol']\n",
    "end_index = prepro_configs['end_symbol']\n",
    "vocab_size = prepro_configs['vocab_size']"
   ]
  },
  {
   "cell_type": "markdown",
   "metadata": {},
   "source": [
    "# 모델 "
   ]
  },
  {
   "cell_type": "markdown",
   "metadata": {},
   "source": [
    "## 인코더"
   ]
  },
  {
   "cell_type": "code",
   "execution_count": 134,
   "metadata": {},
   "outputs": [],
   "source": [
    "class Encoder(tf.keras.layers.Layer):\n",
    "    def __init__(self, vocab_size, embedding_dim, enc_units, batch_sz):\n",
    "        super(Encoder, self).__init__()\n",
    "        self.batch_sz = batch_sz\n",
    "        self.enc_units = enc_units\n",
    "        self.vocab_size = vocab_size \n",
    "        self.embedding_dim = embedding_dim          \n",
    "        \n",
    "        self.embedding = tf.keras.layers.Embedding(self.vocab_size, self.embedding_dim)\n",
    "        self.gru = tf.keras.layers.GRU(self.enc_units,\n",
    "                                       return_sequences=True,\n",
    "                                       return_state=True,\n",
    "                                       recurrent_initializer='glorot_uniform')\n",
    "\n",
    "    def call(self, x, hidden):\n",
    "        x = self.embedding(x)\n",
    "        output, state = self.gru(x, initial_state = hidden)\n",
    "        return output, state\n",
    "\n",
    "    def initialize_hidden_state(self, inp):\n",
    "        return tf.zeros((tf.shape(inp)[0], self.enc_units))"
   ]
  },
  {
   "cell_type": "markdown",
   "metadata": {},
   "source": [
    "## 어텐션"
   ]
  },
  {
   "cell_type": "code",
   "execution_count": 135,
   "metadata": {},
   "outputs": [],
   "source": [
    "class BahdanauAttention(tf.keras.layers.Layer):\n",
    "    def __init__(self, units):\n",
    "        super(BahdanauAttention, self).__init__()\n",
    "        self.W1 = tf.keras.layers.Dense(units)\n",
    "        self.W2 = tf.keras.layers.Dense(units)\n",
    "        self.V = tf.keras.layers.Dense(1)\n",
    "\n",
    "    def call(self, query, values):\n",
    "        hidden_with_time_axis = tf.expand_dims(query, 1)\n",
    "\n",
    "        score = self.V(tf.nn.tanh(\n",
    "            self.W1(values) + self.W2(hidden_with_time_axis)))\n",
    "\n",
    "        attention_weights = tf.nn.softmax(score, axis=1)\n",
    "\n",
    "        context_vector = attention_weights * values\n",
    "        context_vector = tf.reduce_sum(context_vector, axis=1)\n",
    "\n",
    "        return context_vector, attention_weights"
   ]
  },
  {
   "cell_type": "markdown",
   "metadata": {},
   "source": [
    "## 디코더"
   ]
  },
  {
   "cell_type": "code",
   "execution_count": 136,
   "metadata": {},
   "outputs": [],
   "source": [
    "class Decoder(tf.keras.layers.Layer):\n",
    "    def __init__(self, vocab_size, embedding_dim, dec_units, batch_sz):\n",
    "        super(Decoder, self).__init__()\n",
    "        \n",
    "        self.batch_sz = batch_sz\n",
    "        self.dec_units = dec_units\n",
    "        self.vocab_size = vocab_size \n",
    "        self.embedding_dim = embedding_dim  \n",
    "        \n",
    "        self.embedding = tf.keras.layers.Embedding(self.vocab_size, self.embedding_dim)\n",
    "        self.gru = tf.keras.layers.GRU(self.dec_units,\n",
    "                                       return_sequences=True,\n",
    "                                       return_state=True,\n",
    "                                       recurrent_initializer='glorot_uniform')\n",
    "        self.fc = tf.keras.layers.Dense(self.vocab_size)\n",
    "\n",
    "        self.attention = BahdanauAttention(self.dec_units)\n",
    "        \n",
    "    def call(self, x, hidden, enc_output):\n",
    "        context_vector, attention_weights = self.attention(hidden, enc_output)\n",
    "\n",
    "        x = self.embedding(x)\n",
    "\n",
    "        x = tf.concat([tf.expand_dims(context_vector, 1), x], axis=-1)\n",
    "\n",
    "        output, state = self.gru(x)\n",
    "        output = tf.reshape(output, (-1, output.shape[2]))\n",
    "            \n",
    "        x = self.fc(output)\n",
    "        \n",
    "        return x, state, attention_weights"
   ]
  },
  {
   "cell_type": "code",
   "execution_count": 137,
   "metadata": {},
   "outputs": [],
   "source": [
    "optimizer = tf.keras.optimizers.Adam()\n",
    "\n",
    "loss_object = tf.keras.losses.SparseCategoricalCrossentropy(from_logits=True, reduction='none')\n",
    "\n",
    "train_accuracy = tf.keras.metrics.SparseCategoricalAccuracy(name='accuracy')\n",
    "\n",
    "def loss(real, pred):\n",
    "    mask = tf.math.logical_not(tf.math.equal(real, 0))\n",
    "    loss_ = loss_object(real, pred)\n",
    "    mask = tf.cast(mask, dtype=loss_.dtype)\n",
    "    loss_ *= mask\n",
    "    return tf.reduce_mean(loss_)\n",
    "\n",
    "def accuracy(real, pred):\n",
    "    mask = tf.math.logical_not(tf.math.equal(real, 0))\n",
    "    mask = tf.expand_dims(tf.cast(mask, dtype=pred.dtype), axis=-1)\n",
    "    pred *= mask    \n",
    "    acc = train_accuracy(real, pred)\n",
    "\n",
    "    return tf.reduce_mean(acc)"
   ]
  },
  {
   "cell_type": "markdown",
   "metadata": {},
   "source": [
    "## 시퀀스 투 스퀀스 모델"
   ]
  },
  {
   "cell_type": "code",
   "execution_count": 138,
   "metadata": {},
   "outputs": [],
   "source": [
    "class seq2seq(tf.keras.Model):\n",
    "    def __init__(self, vocab_size, embedding_dim, enc_units, dec_units, batch_sz, end_token_idx=2):    \n",
    "        super(seq2seq, self).__init__()\n",
    "        self.end_token_idx = end_token_idx\n",
    "        self.encoder = Encoder(vocab_size, embedding_dim, enc_units, batch_sz) \n",
    "        self.decoder = Decoder(vocab_size, embedding_dim, dec_units, batch_sz) \n",
    "\n",
    "    def call(self, x):\n",
    "        inp, tar = x\n",
    "        \n",
    "        enc_hidden = self.encoder.initialize_hidden_state(inp)\n",
    "        enc_output, enc_hidden = self.encoder(inp, enc_hidden)\n",
    "\n",
    "        dec_hidden = enc_hidden\n",
    "\n",
    "        predict_tokens = list()\n",
    "        for t in range(0, tar.shape[1]):\n",
    "            dec_input = tf.dtypes.cast(tf.expand_dims(tar[:, t], 1), tf.float32) \n",
    "            predictions, dec_hidden, _ = self.decoder(dec_input, dec_hidden, enc_output)\n",
    "            predict_tokens.append(tf.dtypes.cast(predictions, tf.float32))   \n",
    "        return tf.stack(predict_tokens, axis=1)\n",
    "    \n",
    "    def inference(self, x):\n",
    "        inp  = x\n",
    "\n",
    "        enc_hidden = self.encoder.initialize_hidden_state(inp)\n",
    "        enc_output, enc_hidden = self.encoder(inp, enc_hidden)\n",
    "\n",
    "        dec_hidden = enc_hidden\n",
    "        \n",
    "        dec_input = tf.expand_dims([char2idx[std_index]], 1)\n",
    "        \n",
    "        predict_tokens = list()\n",
    "        for t in range(0, MAX_SEQUENCE):\n",
    "            predictions, dec_hidden, _ = self.decoder(dec_input, dec_hidden, enc_output)\n",
    "            predict_token = tf.argmax(predictions[0])\n",
    "            \n",
    "            if predict_token == self.end_token_idx:\n",
    "                break\n",
    "            \n",
    "            predict_tokens.append(predict_token)\n",
    "            dec_input = tf.dtypes.cast(tf.expand_dims([predict_token], 0), tf.float32)   \n",
    "            \n",
    "        return tf.stack(predict_tokens, axis=0).numpy()"
   ]
  },
  {
   "cell_type": "code",
   "execution_count": 139,
   "metadata": {},
   "outputs": [],
   "source": [
    "model = seq2seq(vocab_size, EMBEDDING_DIM, UNITS, UNITS, BATCH_SIZE, char2idx[end_index])\n",
    "model.compile(loss=loss, optimizer=tf.keras.optimizers.Adam(1e-3), metrics=[accuracy])\n",
    "#model.run_eagerly = True"
   ]
  },
  {
   "cell_type": "markdown",
   "metadata": {},
   "source": [
    "## 학습 진행"
   ]
  },
  {
   "cell_type": "code",
   "execution_count": 140,
   "metadata": {
    "scrolled": true
   },
   "outputs": [
    {
     "name": "stdout",
     "output_type": "stream",
     "text": [
      "Epoch 1/30\n",
      "9/9 [==============================] - ETA: 0s - loss: 0.8365 - accuracy: 0.8360\n",
      "Epoch 00001: val_accuracy improved from -inf to 0.85400, saving model to ./data_out/seq2seq_kor/weights.h5\n",
      "9/9 [==============================] - 5s 599ms/step - loss: 0.8365 - accuracy: 0.8360 - val_loss: 0.6929 - val_accuracy: 0.8540\n",
      "Epoch 2/30\n",
      "9/9 [==============================] - ETA: 0s - loss: 0.7576 - accuracy: 0.8527\n",
      "Epoch 00002: val_accuracy improved from 0.85400 to 0.85600, saving model to ./data_out/seq2seq_kor/weights.h5\n",
      "9/9 [==============================] - 1s 91ms/step - loss: 0.7576 - accuracy: 0.8527 - val_loss: 0.6273 - val_accuracy: 0.8560\n",
      "Epoch 3/30\n",
      "9/9 [==============================] - ETA: 0s - loss: 0.6806 - accuracy: 0.8572\n",
      "Epoch 00003: val_accuracy improved from 0.85600 to 0.85667, saving model to ./data_out/seq2seq_kor/weights.h5\n",
      "9/9 [==============================] - 1s 70ms/step - loss: 0.6806 - accuracy: 0.8572 - val_loss: 0.5928 - val_accuracy: 0.8567\n",
      "Epoch 4/30\n",
      "9/9 [==============================] - ETA: 0s - loss: 0.6296 - accuracy: 0.8572\n",
      "Epoch 00004: val_accuracy improved from 0.85667 to 0.85700, saving model to ./data_out/seq2seq_kor/weights.h5\n",
      "9/9 [==============================] - 1s 88ms/step - loss: 0.6296 - accuracy: 0.8572 - val_loss: 0.5681 - val_accuracy: 0.8570\n",
      "Epoch 5/30\n",
      "9/9 [==============================] - ETA: 0s - loss: 0.5831 - accuracy: 0.8582\n",
      "Epoch 00005: val_accuracy improved from 0.85700 to 0.85800, saving model to ./data_out/seq2seq_kor/weights.h5\n",
      "9/9 [==============================] - 1s 72ms/step - loss: 0.5831 - accuracy: 0.8582 - val_loss: 0.5146 - val_accuracy: 0.8580\n",
      "Epoch 6/30\n",
      "9/9 [==============================] - ETA: 0s - loss: 0.5308 - accuracy: 0.8577\n",
      "Epoch 00006: val_accuracy improved from 0.85800 to 0.85900, saving model to ./data_out/seq2seq_kor/weights.h5\n",
      "9/9 [==============================] - 1s 89ms/step - loss: 0.5308 - accuracy: 0.8577 - val_loss: 0.4513 - val_accuracy: 0.8590\n",
      "Epoch 7/30\n",
      "9/9 [==============================] - ETA: 0s - loss: 0.4739 - accuracy: 0.8598\n",
      "Epoch 00007: val_accuracy improved from 0.85900 to 0.86114, saving model to ./data_out/seq2seq_kor/weights.h5\n",
      "9/9 [==============================] - 1s 72ms/step - loss: 0.4739 - accuracy: 0.8598 - val_loss: 0.4118 - val_accuracy: 0.8611\n",
      "Epoch 8/30\n",
      "9/9 [==============================] - ETA: 0s - loss: 0.4216 - accuracy: 0.8632\n",
      "Epoch 00008: val_accuracy improved from 0.86114 to 0.86450, saving model to ./data_out/seq2seq_kor/weights.h5\n",
      "9/9 [==============================] - 1s 90ms/step - loss: 0.4216 - accuracy: 0.8632 - val_loss: 0.3691 - val_accuracy: 0.8645\n",
      "Epoch 9/30\n",
      "8/9 [=========================>....] - ETA: 0s - loss: 0.3744 - accuracy: 0.8667\n",
      "Epoch 00009: val_accuracy improved from 0.86450 to 0.86933, saving model to ./data_out/seq2seq_kor/weights.h5\n",
      "9/9 [==============================] - 1s 87ms/step - loss: 0.3652 - accuracy: 0.8669 - val_loss: 0.3232 - val_accuracy: 0.8693\n",
      "Epoch 10/30\n",
      "9/9 [==============================] - ETA: 0s - loss: 0.3247 - accuracy: 0.8736\n",
      "Epoch 00010: val_accuracy improved from 0.86933 to 0.87780, saving model to ./data_out/seq2seq_kor/weights.h5\n",
      "9/9 [==============================] - 1s 90ms/step - loss: 0.3247 - accuracy: 0.8736 - val_loss: 0.2706 - val_accuracy: 0.8778\n",
      "Epoch 11/30\n",
      "9/9 [==============================] - ETA: 0s - loss: 0.2797 - accuracy: 0.8816\n",
      "Epoch 00011: val_accuracy improved from 0.87780 to 0.88491, saving model to ./data_out/seq2seq_kor/weights.h5\n",
      "9/9 [==============================] - 1s 89ms/step - loss: 0.2797 - accuracy: 0.8816 - val_loss: 0.2418 - val_accuracy: 0.8849\n",
      "Epoch 12/30\n",
      "9/9 [==============================] - ETA: 0s - loss: 0.2250 - accuracy: 0.8882\n",
      "Epoch 00012: val_accuracy improved from 0.88491 to 0.89117, saving model to ./data_out/seq2seq_kor/weights.h5\n",
      "9/9 [==============================] - 1s 87ms/step - loss: 0.2250 - accuracy: 0.8882 - val_loss: 0.2023 - val_accuracy: 0.8912\n",
      "Epoch 13/30\n",
      "9/9 [==============================] - ETA: 0s - loss: 0.1984 - accuracy: 0.8938\n",
      "Epoch 00013: val_accuracy improved from 0.89117 to 0.89615, saving model to ./data_out/seq2seq_kor/weights.h5\n",
      "9/9 [==============================] - 1s 72ms/step - loss: 0.1984 - accuracy: 0.8938 - val_loss: 0.2193 - val_accuracy: 0.8962\n",
      "Epoch 14/30\n",
      "9/9 [==============================] - ETA: 0s - loss: 0.1793 - accuracy: 0.8985\n",
      "Epoch 00014: val_accuracy improved from 0.89615 to 0.90043, saving model to ./data_out/seq2seq_kor/weights.h5\n",
      "9/9 [==============================] - 1s 88ms/step - loss: 0.1793 - accuracy: 0.8985 - val_loss: 0.1197 - val_accuracy: 0.9004\n",
      "Epoch 15/30\n",
      "9/9 [==============================] - ETA: 0s - loss: 0.1552 - accuracy: 0.9023\n",
      "Epoch 00015: val_accuracy improved from 0.90043 to 0.90400, saving model to ./data_out/seq2seq_kor/weights.h5\n",
      "9/9 [==============================] - 1s 91ms/step - loss: 0.1552 - accuracy: 0.9023 - val_loss: 0.1431 - val_accuracy: 0.9040\n",
      "Epoch 16/30\n",
      "9/9 [==============================] - ETA: 0s - loss: 0.1389 - accuracy: 0.9059\n",
      "Epoch 00016: val_accuracy improved from 0.90400 to 0.90750, saving model to ./data_out/seq2seq_kor/weights.h5\n",
      "9/9 [==============================] - 1s 90ms/step - loss: 0.1389 - accuracy: 0.9059 - val_loss: 0.1279 - val_accuracy: 0.9075\n",
      "Epoch 17/30\n",
      "9/9 [==============================] - ETA: 0s - loss: 0.1268 - accuracy: 0.9090\n",
      "Epoch 00017: val_accuracy improved from 0.90750 to 0.91047, saving model to ./data_out/seq2seq_kor/weights.h5\n",
      "9/9 [==============================] - 1s 77ms/step - loss: 0.1268 - accuracy: 0.9090 - val_loss: 0.1207 - val_accuracy: 0.9105\n",
      "Epoch 18/30\n",
      "9/9 [==============================] - ETA: 0s - loss: 0.1297 - accuracy: 0.9119\n",
      "Epoch 00018: val_accuracy improved from 0.91047 to 0.91322, saving model to ./data_out/seq2seq_kor/weights.h5\n",
      "9/9 [==============================] - 1s 87ms/step - loss: 0.1297 - accuracy: 0.9119 - val_loss: 0.1242 - val_accuracy: 0.9132\n",
      "Epoch 19/30\n",
      "9/9 [==============================] - ETA: 0s - loss: 0.1235 - accuracy: 0.9146\n",
      "Epoch 00019: val_accuracy improved from 0.91322 to 0.91568, saving model to ./data_out/seq2seq_kor/weights.h5\n",
      "9/9 [==============================] - 1s 73ms/step - loss: 0.1235 - accuracy: 0.9146 - val_loss: 0.1305 - val_accuracy: 0.9157\n",
      "Epoch 20/30\n",
      "9/9 [==============================] - ETA: 0s - loss: 0.1107 - accuracy: 0.9169\n",
      "Epoch 00020: val_accuracy improved from 0.91568 to 0.91790, saving model to ./data_out/seq2seq_kor/weights.h5\n",
      "9/9 [==============================] - 1s 92ms/step - loss: 0.1107 - accuracy: 0.9169 - val_loss: 0.1224 - val_accuracy: 0.9179\n",
      "Epoch 21/30\n",
      "9/9 [==============================] - ETA: 0s - loss: 0.1014 - accuracy: 0.9190\n",
      "Epoch 00021: val_accuracy improved from 0.91790 to 0.92010, saving model to ./data_out/seq2seq_kor/weights.h5\n",
      "9/9 [==============================] - 1s 82ms/step - loss: 0.1014 - accuracy: 0.9190 - val_loss: 0.1348 - val_accuracy: 0.9201\n",
      "Epoch 22/30\n",
      "9/9 [==============================] - ETA: 0s - loss: 0.0860 - accuracy: 0.9210\n",
      "Epoch 00022: val_accuracy improved from 0.92010 to 0.92209, saving model to ./data_out/seq2seq_kor/weights.h5\n",
      "9/9 [==============================] - 1s 85ms/step - loss: 0.0860 - accuracy: 0.9210 - val_loss: 0.1393 - val_accuracy: 0.9221\n",
      "Epoch 23/30\n",
      "9/9 [==============================] - ETA: 0s - loss: 0.0679 - accuracy: 0.9230\n",
      "Epoch 00023: val_accuracy improved from 0.92209 to 0.92409, saving model to ./data_out/seq2seq_kor/weights.h5\n",
      "9/9 [==============================] - 1s 75ms/step - loss: 0.0679 - accuracy: 0.9230 - val_loss: 0.1486 - val_accuracy: 0.9241\n",
      "Epoch 24/30\n",
      "9/9 [==============================] - ETA: 0s - loss: 0.0564 - accuracy: 0.9254\n",
      "Epoch 00024: val_accuracy improved from 0.92409 to 0.92642, saving model to ./data_out/seq2seq_kor/weights.h5\n",
      "9/9 [==============================] - 1s 87ms/step - loss: 0.0564 - accuracy: 0.9254 - val_loss: 0.1438 - val_accuracy: 0.9264\n",
      "Epoch 25/30\n",
      "9/9 [==============================] - ETA: 0s - loss: 0.0442 - accuracy: 0.9275\n",
      "Epoch 00025: val_accuracy improved from 0.92642 to 0.92848, saving model to ./data_out/seq2seq_kor/weights.h5\n",
      "9/9 [==============================] - 1s 72ms/step - loss: 0.0442 - accuracy: 0.9275 - val_loss: 0.1351 - val_accuracy: 0.9285\n"
     ]
    },
    {
     "name": "stdout",
     "output_type": "stream",
     "text": [
      "Epoch 26/30\n",
      "9/9 [==============================] - ETA: 0s - loss: 0.0379 - accuracy: 0.9297\n",
      "Epoch 00026: val_accuracy improved from 0.92848 to 0.93069, saving model to ./data_out/seq2seq_kor/weights.h5\n",
      "9/9 [==============================] - 1s 87ms/step - loss: 0.0379 - accuracy: 0.9297 - val_loss: 0.1366 - val_accuracy: 0.9307\n",
      "Epoch 27/30\n",
      "9/9 [==============================] - ETA: 0s - loss: 0.0187 - accuracy: 0.9319\n",
      "Epoch 00027: val_accuracy improved from 0.93069 to 0.93289, saving model to ./data_out/seq2seq_kor/weights.h5\n",
      "9/9 [==============================] - 1s 88ms/step - loss: 0.0187 - accuracy: 0.9319 - val_loss: 0.1678 - val_accuracy: 0.9329\n",
      "Epoch 28/30\n",
      "9/9 [==============================] - ETA: 0s - loss: 0.0352 - accuracy: 0.9339\n",
      "Epoch 00028: val_accuracy improved from 0.93289 to 0.93493, saving model to ./data_out/seq2seq_kor/weights.h5\n",
      "9/9 [==============================] - 1s 92ms/step - loss: 0.0352 - accuracy: 0.9339 - val_loss: 0.1361 - val_accuracy: 0.9349\n",
      "Epoch 29/30\n",
      "9/9 [==============================] - ETA: 0s - loss: 0.0210 - accuracy: 0.9359\n",
      "Epoch 00029: val_accuracy improved from 0.93493 to 0.93676, saving model to ./data_out/seq2seq_kor/weights.h5\n",
      "9/9 [==============================] - 1s 77ms/step - loss: 0.0210 - accuracy: 0.9359 - val_loss: 0.1303 - val_accuracy: 0.9368\n",
      "Epoch 30/30\n",
      "9/9 [==============================] - ETA: 0s - loss: 0.0240 - accuracy: 0.9377\n",
      "Epoch 00030: val_accuracy improved from 0.93676 to 0.93847, saving model to ./data_out/seq2seq_kor/weights.h5\n",
      "9/9 [==============================] - 1s 88ms/step - loss: 0.0240 - accuracy: 0.9377 - val_loss: 0.1384 - val_accuracy: 0.9385\n"
     ]
    }
   ],
   "source": [
    "PATH = DATA_OUT_PATH + MODEL_NAME\n",
    "if not(os.path.isdir(PATH)):\n",
    "        os.makedirs(os.path.join(PATH))\n",
    "        \n",
    "checkpoint_path = DATA_OUT_PATH + MODEL_NAME + '/weights.h5'\n",
    "    \n",
    "cp_callback = ModelCheckpoint(\n",
    "    checkpoint_path, monitor='val_accuracy', verbose=1, save_best_only=True, save_weights_only=True)\n",
    "\n",
    "earlystop_callback = EarlyStopping(monitor='val_accuracy', min_delta=0.0001, patience=10)\n",
    "\n",
    "history = model.fit([index_inputs, index_outputs], index_targets,\n",
    "                    batch_size=BATCH_SIZE, epochs=EPOCH,\n",
    "                    validation_split=VALIDATION_SPLIT, callbacks=[earlystop_callback, cp_callback])"
   ]
  },
  {
   "cell_type": "markdown",
   "metadata": {},
   "source": [
    "## 결과 플롯"
   ]
  },
  {
   "cell_type": "code",
   "execution_count": 141,
   "metadata": {},
   "outputs": [
    {
     "data": {
      "image/png": "[encoded data removed]",
      "text/plain": [
       "<Figure size 432x288 with 1 Axes>"
      ]
     },
     "metadata": {
      "needs_background": "light"
     },
     "output_type": "display_data"
    }
   ],
   "source": [
    "plot_graphs(history, 'accuracy')"
   ]
  },
  {
   "cell_type": "code",
   "execution_count": 142,
   "metadata": {},
   "outputs": [
    {
     "data": {
      "image/png": "[encoded data removed]",
      "text/plain": [
       "<Figure size 432x288 with 1 Axes>"
      ]
     },
     "metadata": {
      "needs_background": "light"
     },
     "output_type": "display_data"
    }
   ],
   "source": [
    "plot_graphs(history, 'loss')"
   ]
  },
  {
   "cell_type": "markdown",
   "metadata": {},
   "source": [
    "### 결과 확인"
   ]
  },
  {
   "cell_type": "code",
   "execution_count": 143,
   "metadata": {},
   "outputs": [],
   "source": [
    "SAVE_FILE_NM = \"weights.h5\"\n",
    "model.load_weights(os.path.join(DATA_OUT_PATH, MODEL_NAME, SAVE_FILE_NM))"
   ]
  },
  {
   "cell_type": "code",
   "execution_count": 144,
   "metadata": {},
   "outputs": [
    {
     "name": "stdout",
     "output_type": "stream",
     "text": [
      "[83 79 98 97 21 56]\n",
      "평소에 필요했던 게 좋을 것 생각해보세요\n"
     ]
    }
   ],
   "source": [
    "query = \"남자친구 승진 선물로 뭐가 좋을까?\"\n",
    "\n",
    "test_index_inputs, _ = enc_processing([query], char2idx)    \n",
    "predict_tokens = model.inference(test_index_inputs)\n",
    "print(predict_tokens)\n",
    "\n",
    "print(' '.join([idx2char[str(t)] for t in predict_tokens]))"
   ]
  },
  {
   "cell_type": "code",
   "execution_count": null,
   "metadata": {},
   "outputs": [],
   "source": []
  }
 ],
 "metadata": {
  "kernelspec": {
   "display_name": "Python 3",
   "language": "python",
   "name": "python3"
  },
  "language_info": {
   "codemirror_mode": {
    "name": "ipython",
    "version": 3
   },
   "file_extension": ".py",
   "mimetype": "text/x-python",
   "name": "python",
   "nbconvert_exporter": "python",
   "pygments_lexer": "ipython3",
   "version": "3.7.6"
  }
 },
 "nbformat": 4,
 "nbformat_minor": 4
}
